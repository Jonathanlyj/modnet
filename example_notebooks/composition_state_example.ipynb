{
 "cells": [
  {
   "cell_type": "markdown",
   "metadata": {},
   "source": [
    "# Prediction of hardness based on chemical formula and load (state)\n",
    "\n",
    "This notebooks applies MODNet on [a hardness dataset extracted from literature](https://github.com/ziyan1996/VickersHardnessPrediction). It is a good example on how MODNet can be used for a composition-only task\n",
    "with state variables such as temperature or pressure or in this case the applied load\n",
    "(N) during hardness testing.\n",
    "\n",
    "The citation for hardness data used is as follows:\n",
    "> Zhang. Z, Tehrani. A.M., Oliynyk. A.O., Day. B and Brgoch. J, Finding Superhard Materials through Ensemble Learning, Adv. Mater. 2020, 33, 2005112."
   ]
  },
  {
   "cell_type": "markdown",
   "metadata": {},
   "source": [
    "## Dependencies"
   ]
  },
  {
   "cell_type": "code",
   "execution_count": 6,
   "metadata": {},
   "outputs": [],
   "source": [
    "# !pip3 install ml-matrics"
   ]
  },
  {
   "cell_type": "code",
   "execution_count": 1,
   "metadata": {},
   "outputs": [
    {
     "name": "stderr",
     "output_type": "stream",
     "text": [
      "2023-08-27 17:13:19.386212: I tensorflow/core/platform/cpu_feature_guard.cc:193] This TensorFlow binary is optimized with oneAPI Deep Neural Network Library (oneDNN) to use the following CPU instructions in performance-critical operations:  AVX2 AVX512F FMA\n",
      "To enable them in other operations, rebuild TensorFlow with the appropriate compiler flags.\n",
      "2023-08-27 17:13:20.257027: W tensorflow/compiler/xla/stream_executor/platform/default/dso_loader.cc:64] Could not load dynamic library 'libnvinfer.so.7'; dlerror: libnvinfer.so.7: cannot open shared object file: No such file or directory\n",
      "2023-08-27 17:13:20.257115: W tensorflow/compiler/xla/stream_executor/platform/default/dso_loader.cc:64] Could not load dynamic library 'libnvinfer_plugin.so.7'; dlerror: libnvinfer_plugin.so.7: cannot open shared object file: No such file or directory\n",
      "2023-08-27 17:13:20.257126: W tensorflow/compiler/tf2tensorrt/utils/py_utils.cc:38] TF-TRT Warning: Cannot dlopen some TensorRT libraries. If you would like to use Nvidia GPU with TensorRT, please make sure the missing libraries mentioned above are installed properly.\n",
      "/scratch/yll6162/miniconda/envs/modnet/lib/python3.9/site-packages/tqdm/auto.py:21: TqdmWarning: IProgress not found. Please update jupyter and ipywidgets. See https://ipywidgets.readthedocs.io/en/stable/user_install.html\n",
      "  from .autonotebook import tqdm as notebook_tqdm\n"
     ]
    }
   ],
   "source": [
    "from os.path import join\n",
    "import os\n",
    "os.environ[\"OMP_NUM_THREADS\"] = \"1\"\n",
    "import numpy as np\n",
    "import pandas as pd\n",
    "from modnet.models import MODNetModel\n",
    "from modnet.preprocessing import MODData\n",
    "import matplotlib.pyplot as plt \n",
    "# from ml_matrics.parity import density_scatter, density_hexbin\n",
    "from pymatgen.core import Composition"
   ]
  },
  {
   "cell_type": "code",
   "execution_count": 8,
   "metadata": {},
   "outputs": [],
   "source": [
    "df = pd.read_csv(join(\"data\",\"hv_comp_load\",\"hv_comp_load.csv\"))"
   ]
  },
  {
   "cell_type": "code",
   "execution_count": 9,
   "metadata": {},
   "outputs": [
    {
     "data": {
      "text/html": [
       "<div>\n",
       "<style scoped>\n",
       "    .dataframe tbody tr th:only-of-type {\n",
       "        vertical-align: middle;\n",
       "    }\n",
       "\n",
       "    .dataframe tbody tr th {\n",
       "        vertical-align: top;\n",
       "    }\n",
       "\n",
       "    .dataframe thead th {\n",
       "        text-align: right;\n",
       "    }\n",
       "</style>\n",
       "<table border=\"1\" class=\"dataframe\">\n",
       "  <thead>\n",
       "    <tr style=\"text-align: right;\">\n",
       "      <th></th>\n",
       "      <th>composition</th>\n",
       "      <th>hardness</th>\n",
       "      <th>load</th>\n",
       "    </tr>\n",
       "  </thead>\n",
       "  <tbody>\n",
       "    <tr>\n",
       "      <th>0</th>\n",
       "      <td>Ag0.05Gd0.048Pd0.902</td>\n",
       "      <td>1.810</td>\n",
       "      <td>0.49</td>\n",
       "    </tr>\n",
       "    <tr>\n",
       "      <th>1</th>\n",
       "      <td>Ag0.05Y0.048Pd0.902</td>\n",
       "      <td>1.640</td>\n",
       "      <td>0.49</td>\n",
       "    </tr>\n",
       "    <tr>\n",
       "      <th>2</th>\n",
       "      <td>Ag0.25Pb0.5Sb0.25Te</td>\n",
       "      <td>0.578</td>\n",
       "      <td>2.94</td>\n",
       "    </tr>\n",
       "    <tr>\n",
       "      <th>3</th>\n",
       "      <td>Al1.5Si1.5N2.5O1.5</td>\n",
       "      <td>15.030</td>\n",
       "      <td>0.98</td>\n",
       "    </tr>\n",
       "    <tr>\n",
       "      <th>4</th>\n",
       "      <td>Al1.67B22</td>\n",
       "      <td>23.800</td>\n",
       "      <td>2.00</td>\n",
       "    </tr>\n",
       "    <tr>\n",
       "      <th>...</th>\n",
       "      <td>...</td>\n",
       "      <td>...</td>\n",
       "      <td>...</td>\n",
       "    </tr>\n",
       "    <tr>\n",
       "      <th>1057</th>\n",
       "      <td>ZrV2</td>\n",
       "      <td>3.600</td>\n",
       "      <td>0.98</td>\n",
       "    </tr>\n",
       "    <tr>\n",
       "      <th>1058</th>\n",
       "      <td>ZrW2</td>\n",
       "      <td>11.100</td>\n",
       "      <td>0.98</td>\n",
       "    </tr>\n",
       "    <tr>\n",
       "      <th>1059</th>\n",
       "      <td>OsB2</td>\n",
       "      <td>34.800</td>\n",
       "      <td>0.25</td>\n",
       "    </tr>\n",
       "    <tr>\n",
       "      <th>1060</th>\n",
       "      <td>OsB2</td>\n",
       "      <td>27.000</td>\n",
       "      <td>0.49</td>\n",
       "    </tr>\n",
       "    <tr>\n",
       "      <th>1061</th>\n",
       "      <td>OsB2</td>\n",
       "      <td>17.800</td>\n",
       "      <td>1.96</td>\n",
       "    </tr>\n",
       "  </tbody>\n",
       "</table>\n",
       "<p>1062 rows × 3 columns</p>\n",
       "</div>"
      ],
      "text/plain": [
       "               composition  hardness  load\n",
       "0     Ag0.05Gd0.048Pd0.902     1.810  0.49\n",
       "1      Ag0.05Y0.048Pd0.902     1.640  0.49\n",
       "2      Ag0.25Pb0.5Sb0.25Te     0.578  2.94\n",
       "3       Al1.5Si1.5N2.5O1.5    15.030  0.98\n",
       "4                Al1.67B22    23.800  2.00\n",
       "...                    ...       ...   ...\n",
       "1057                  ZrV2     3.600  0.98\n",
       "1058                  ZrW2    11.100  0.98\n",
       "1059                  OsB2    34.800  0.25\n",
       "1060                  OsB2    27.000  0.49\n",
       "1061                  OsB2    17.800  1.96\n",
       "\n",
       "[1062 rows x 3 columns]"
      ]
     },
     "execution_count": 9,
     "metadata": {},
     "output_type": "execute_result"
    }
   ],
   "source": [
    "df"
   ]
  },
  {
   "cell_type": "markdown",
   "metadata": {},
   "source": [
    "The Zhang et al. hardness dataset contains 1062 individual Vickers hardness measurements\n",
    "at various loads."
   ]
  },
  {
   "cell_type": "code",
   "execution_count": 2,
   "metadata": {},
   "outputs": [
    {
     "data": {
      "text/html": [
       "<div>\n",
       "<style scoped>\n",
       "    .dataframe tbody tr th:only-of-type {\n",
       "        vertical-align: middle;\n",
       "    }\n",
       "\n",
       "    .dataframe tbody tr th {\n",
       "        vertical-align: top;\n",
       "    }\n",
       "\n",
       "    .dataframe thead th {\n",
       "        text-align: right;\n",
       "    }\n",
       "</style>\n",
       "<table border=\"1\" class=\"dataframe\">\n",
       "  <thead>\n",
       "    <tr style=\"text-align: right;\">\n",
       "      <th></th>\n",
       "      <th>composition</th>\n",
       "      <th>hardness</th>\n",
       "      <th>load</th>\n",
       "    </tr>\n",
       "  </thead>\n",
       "  <tbody>\n",
       "    <tr>\n",
       "      <th>0</th>\n",
       "      <td>(Ag, Gd, Pd)</td>\n",
       "      <td>1.810</td>\n",
       "      <td>0.49</td>\n",
       "    </tr>\n",
       "    <tr>\n",
       "      <th>1</th>\n",
       "      <td>(Ag, Y, Pd)</td>\n",
       "      <td>1.640</td>\n",
       "      <td>0.49</td>\n",
       "    </tr>\n",
       "    <tr>\n",
       "      <th>2</th>\n",
       "      <td>(Ag, Pb, Sb, Te)</td>\n",
       "      <td>0.578</td>\n",
       "      <td>2.94</td>\n",
       "    </tr>\n",
       "    <tr>\n",
       "      <th>3</th>\n",
       "      <td>(Al, Si, N, O)</td>\n",
       "      <td>15.030</td>\n",
       "      <td>0.98</td>\n",
       "    </tr>\n",
       "    <tr>\n",
       "      <th>4</th>\n",
       "      <td>(Al, B)</td>\n",
       "      <td>23.800</td>\n",
       "      <td>2.00</td>\n",
       "    </tr>\n",
       "  </tbody>\n",
       "</table>\n",
       "</div>"
      ],
      "text/plain": [
       "        composition  hardness  load\n",
       "0      (Ag, Gd, Pd)     1.810  0.49\n",
       "1       (Ag, Y, Pd)     1.640  0.49\n",
       "2  (Ag, Pb, Sb, Te)     0.578  2.94\n",
       "3    (Al, Si, N, O)    15.030  0.98\n",
       "4           (Al, B)    23.800  2.00"
      ]
     },
     "execution_count": 2,
     "metadata": {},
     "output_type": "execute_result"
    }
   ],
   "source": [
    "df = pd.read_csv(join(\"data\",\"hv_comp_load\",\"hv_comp_load.csv\"))\n",
    "# df = df.iloc[0:100] # uncomment if you only want to use a small subset of the data\n",
    "df[\"composition\"] = df[\"composition\"].map(Composition) # maps composition to a pymatgen composition object\n",
    "target_name = \"hardness\"\n",
    "state_name = \"load\"\n",
    "df.head()"
   ]
  },
  {
   "cell_type": "code",
   "execution_count": 3,
   "metadata": {},
   "outputs": [
    {
     "data": {
      "text/html": [
       "<div>\n",
       "<style scoped>\n",
       "    .dataframe tbody tr th:only-of-type {\n",
       "        vertical-align: middle;\n",
       "    }\n",
       "\n",
       "    .dataframe tbody tr th {\n",
       "        vertical-align: top;\n",
       "    }\n",
       "\n",
       "    .dataframe thead th {\n",
       "        text-align: right;\n",
       "    }\n",
       "</style>\n",
       "<table border=\"1\" class=\"dataframe\">\n",
       "  <thead>\n",
       "    <tr style=\"text-align: right;\">\n",
       "      <th></th>\n",
       "      <th>hardness</th>\n",
       "      <th>load</th>\n",
       "    </tr>\n",
       "  </thead>\n",
       "  <tbody>\n",
       "    <tr>\n",
       "      <th>count</th>\n",
       "      <td>1062.000000</td>\n",
       "      <td>1062.000000</td>\n",
       "    </tr>\n",
       "    <tr>\n",
       "      <th>mean</th>\n",
       "      <td>25.011255</td>\n",
       "      <td>2.334731</td>\n",
       "    </tr>\n",
       "    <tr>\n",
       "      <th>std</th>\n",
       "      <td>13.567154</td>\n",
       "      <td>3.613743</td>\n",
       "    </tr>\n",
       "    <tr>\n",
       "      <th>min</th>\n",
       "      <td>0.250000</td>\n",
       "      <td>0.001500</td>\n",
       "    </tr>\n",
       "    <tr>\n",
       "      <th>25%</th>\n",
       "      <td>11.305000</td>\n",
       "      <td>0.590000</td>\n",
       "    </tr>\n",
       "    <tr>\n",
       "      <th>50%</th>\n",
       "      <td>28.448737</td>\n",
       "      <td>0.980000</td>\n",
       "    </tr>\n",
       "    <tr>\n",
       "      <th>75%</th>\n",
       "      <td>34.266283</td>\n",
       "      <td>2.940000</td>\n",
       "    </tr>\n",
       "    <tr>\n",
       "      <th>max</th>\n",
       "      <td>92.000000</td>\n",
       "      <td>49.030000</td>\n",
       "    </tr>\n",
       "  </tbody>\n",
       "</table>\n",
       "</div>"
      ],
      "text/plain": [
       "          hardness         load\n",
       "count  1062.000000  1062.000000\n",
       "mean     25.011255     2.334731\n",
       "std      13.567154     3.613743\n",
       "min       0.250000     0.001500\n",
       "25%      11.305000     0.590000\n",
       "50%      28.448737     0.980000\n",
       "75%      34.266283     2.940000\n",
       "max      92.000000    49.030000"
      ]
     },
     "execution_count": 3,
     "metadata": {},
     "output_type": "execute_result"
    }
   ],
   "source": [
    "df.describe()"
   ]
  },
  {
   "cell_type": "markdown",
   "metadata": {},
   "source": [
    "We can view the distribution of the data (load and hardness values) via a hexagonally\n",
    "binned scatter plot, or \"hexbin\"."
   ]
  },
  {
   "cell_type": "code",
   "execution_count": 4,
   "metadata": {},
   "outputs": [
    {
     "data": {
      "image/png": "[encoded data removed]",
      "text/plain": [
       "<Figure size 640x480 with 2 Axes>"
      ]
     },
     "metadata": {},
     "output_type": "display_data"
    }
   ],
   "source": [
    "fig, ax = plt.subplots(facecolor=\"w\")\n",
    "hb = ax.hexbin(df[target_name], df[state_name], bins=\"log\")\n",
    "plt.ylabel(state_name)\n",
    "plt.xlabel(target_name)\n",
    "ax.set_box_aspect(1)\n",
    "cb = fig.colorbar(hb, ax=ax)\n",
    "cb.set_label('counts')"
   ]
  },
  {
   "cell_type": "markdown",
   "metadata": {},
   "source": [
    "Or via a more traditional x-y scatter plot:"
   ]
  },
  {
   "cell_type": "code",
   "execution_count": 5,
   "metadata": {},
   "outputs": [
    {
     "data": {
      "image/png": "[encoded data removed]",
      "text/plain": [
       "<Figure size 640x480 with 1 Axes>"
      ]
     },
     "metadata": {},
     "output_type": "display_data"
    }
   ],
   "source": [
    "fig, ax = plt.subplots(facecolor=\"w\")\n",
    "ax.scatter(df[target_name], df[state_name],s=1)\n",
    "plt.ylabel(state_name)\n",
    "plt.xlabel(target_name)\n",
    "ax.set_box_aspect(1)"
   ]
  },
  {
   "cell_type": "markdown",
   "metadata": {},
   "source": [
    "## MODData"
   ]
  },
  {
   "cell_type": "code",
   "execution_count": 6,
   "metadata": {},
   "outputs": [
    {
     "name": "stdout",
     "output_type": "stream",
     "text": [
      "2023-08-27 17:13:53,629 - modnet - INFO - Loaded CompositionOnlyMatminer2023Featurizer featurizer.\n"
     ]
    }
   ],
   "source": [
    "# This instantiates the MODData\n",
    "data = MODData(\n",
    "    materials=df[\"composition\"], # you can provide composition objects to MODData\n",
    "    targets=df[target_name], \n",
    "    target_names=[target_name]\n",
    ")"
   ]
  },
  {
   "cell_type": "code",
   "execution_count": 13,
   "metadata": {},
   "outputs": [
    {
     "name": "stdout",
     "output_type": "stream",
     "text": [
      "2023-08-26 00:12:24,973 - modnet - INFO - Computing features, this can take time...\n",
      "2023-08-26 00:12:24,975 - modnet - INFO - Applying composition featurizers...\n",
      "2023-08-26 00:12:24,980 - modnet - INFO - Applying featurizers (AtomicOrbitals(), AtomicPackingEfficiency(), BandCenter(), ElementFraction(), ElementProperty(data_source=<matminer.utils.data.MagpieData object at 0x7f813f7b97c0>,\n",
      "                features=['Number', 'MendeleevNumber', 'AtomicWeight',\n",
      "                          'MeltingT', 'Column', 'Row', 'CovalentRadius',\n",
      "                          'Electronegativity', 'NsValence', 'NpValence',\n",
      "                          'NdValence', 'NfValence', 'NValence', 'NsUnfilled',\n",
      "                          'NpUnfilled', 'NdUnfilled', 'NfUnfilled', 'NUnfilled',\n",
      "                          'GSvolume_pa', 'GSbandgap', 'GSmagmom',\n",
      "                          'SpaceGroupNumber'],\n",
      "                stats=['minimum', 'maximum', 'range', 'mean', 'avg_dev',\n",
      "                       'mode']), IonProperty(), Miedema(ss_types=['min'], struct_types=['inter', 'amor', 'ss']), Stoichiometry(), TMetalFraction(), ValenceOrbital(), YangSolidSolution()) to column 'composition'.\n"
     ]
    },
    {
     "name": "stderr",
     "output_type": "stream",
     "text": [
      "MultipleFeaturizer:  44%|████▍     | 472/1062 [00:01<00:01, 354.77it/s]/scratch/yll6162/miniconda/envs/modnet/lib/python3.9/site-packages/matminer/featurizers/composition/alloy.py:198: RuntimeWarning: invalid value encountered in power\n",
      "  alp_a = np.multiply(1.5, np.power(v_a, 2 / 3)) / reduce(lambda x, y: 1 / x + 1 / y, np.power(n_ws, 1 / 3))\n",
      "/scratch/yll6162/miniconda/envs/modnet/lib/python3.9/site-packages/matminer/featurizers/composition/alloy.py:198: RuntimeWarning: invalid value encountered in power\n",
      "  alp_a = np.multiply(1.5, np.power(v_a, 2 / 3)) / reduce(lambda x, y: 1 / x + 1 / y, np.power(n_ws, 1 / 3))\n",
      "MultipleFeaturizer: 100%|██████████| 1062/1062 [00:11<00:00, 93.79it/s]\n",
      "MultipleFeaturizer:  81%|████████▏ | 863/1062 [00:07<00:02, 68.27it/s]/scratch/yll6162/miniconda/envs/modnet/lib/python3.9/site-packages/matminer/featurizers/composition/alloy.py:198: RuntimeWarning: invalid value encountered in power\n",
      "  alp_a = np.multiply(1.5, np.power(v_a, 2 / 3)) / reduce(lambda x, y: 1 / x + 1 / y, np.power(n_ws, 1 / 3))\n",
      "/scratch/yll6162/miniconda/envs/modnet/lib/python3.9/site-packages/matminer/featurizers/composition/alloy.py:198: RuntimeWarning: invalid value encountered in power\n",
      "  alp_a = np.multiply(1.5, np.power(v_a, 2 / 3)) / reduce(lambda x, y: 1 / x + 1 / y, np.power(n_ws, 1 / 3))\n"
     ]
    },
    {
     "name": "stdout",
     "output_type": "stream",
     "text": [
      "2023-08-26 00:12:45,354 - modnet - INFO - Data has successfully been featurized!\n"
     ]
    }
   ],
   "source": [
    "# Featurization of the moddata\n",
    "# It will automatically apply composition only featurizers\n",
    "data.featurize()"
   ]
  },
  {
   "cell_type": "markdown",
   "metadata": {},
   "source": [
    "### add hardness data post-hoc"
   ]
  },
  {
   "cell_type": "code",
   "execution_count": 14,
   "metadata": {},
   "outputs": [],
   "source": [
    "data.df_featurized[state_name] = df[state_name].values"
   ]
  },
  {
   "cell_type": "code",
   "execution_count": 15,
   "metadata": {},
   "outputs": [
    {
     "data": {
      "text/html": [
       "<div>\n",
       "<style scoped>\n",
       "    .dataframe tbody tr th:only-of-type {\n",
       "        vertical-align: middle;\n",
       "    }\n",
       "\n",
       "    .dataframe tbody tr th {\n",
       "        vertical-align: top;\n",
       "    }\n",
       "\n",
       "    .dataframe thead th {\n",
       "        text-align: right;\n",
       "    }\n",
       "</style>\n",
       "<table border=\"1\" class=\"dataframe\">\n",
       "  <thead>\n",
       "    <tr style=\"text-align: right;\">\n",
       "      <th></th>\n",
       "      <th>AtomicOrbitals|HOMO_character</th>\n",
       "      <th>AtomicOrbitals|HOMO_element</th>\n",
       "      <th>AtomicOrbitals|HOMO_energy</th>\n",
       "      <th>AtomicOrbitals|LUMO_character</th>\n",
       "      <th>AtomicOrbitals|LUMO_element</th>\n",
       "      <th>AtomicOrbitals|LUMO_energy</th>\n",
       "      <th>AtomicOrbitals|gap_AO</th>\n",
       "      <th>AtomicPackingEfficiency|mean simul. packing efficiency</th>\n",
       "      <th>AtomicPackingEfficiency|mean abs simul. packing efficiency</th>\n",
       "      <th>AtomicPackingEfficiency|dist from 1 clusters |APE| &lt; 0.010</th>\n",
       "      <th>...</th>\n",
       "      <th>ValenceOrbital|avg p valence electrons</th>\n",
       "      <th>ValenceOrbital|avg d valence electrons</th>\n",
       "      <th>ValenceOrbital|avg f valence electrons</th>\n",
       "      <th>ValenceOrbital|frac s valence electrons</th>\n",
       "      <th>ValenceOrbital|frac p valence electrons</th>\n",
       "      <th>ValenceOrbital|frac d valence electrons</th>\n",
       "      <th>ValenceOrbital|frac f valence electrons</th>\n",
       "      <th>YangSolidSolution|Yang omega</th>\n",
       "      <th>YangSolidSolution|Yang delta</th>\n",
       "      <th>load</th>\n",
       "    </tr>\n",
       "    <tr>\n",
       "      <th>id</th>\n",
       "      <th></th>\n",
       "      <th></th>\n",
       "      <th></th>\n",
       "      <th></th>\n",
       "      <th></th>\n",
       "      <th></th>\n",
       "      <th></th>\n",
       "      <th></th>\n",
       "      <th></th>\n",
       "      <th></th>\n",
       "      <th></th>\n",
       "      <th></th>\n",
       "      <th></th>\n",
       "      <th></th>\n",
       "      <th></th>\n",
       "      <th></th>\n",
       "      <th></th>\n",
       "      <th></th>\n",
       "      <th></th>\n",
       "      <th></th>\n",
       "      <th></th>\n",
       "    </tr>\n",
       "  </thead>\n",
       "  <tbody>\n",
       "    <tr>\n",
       "      <th>id0</th>\n",
       "      <td>3</td>\n",
       "      <td>46</td>\n",
       "      <td>-0.160771</td>\n",
       "      <td>3</td>\n",
       "      <td>46</td>\n",
       "      <td>-0.160771</td>\n",
       "      <td>0.000000</td>\n",
       "      <td>0.011270</td>\n",
       "      <td>0.013120</td>\n",
       "      <td>0.016120</td>\n",
       "      <td>...</td>\n",
       "      <td>0.000000</td>\n",
       "      <td>9.568000</td>\n",
       "      <td>0.336000</td>\n",
       "      <td>0.014527</td>\n",
       "      <td>0.000000</td>\n",
       "      <td>0.952040</td>\n",
       "      <td>0.033433</td>\n",
       "      <td>3.587849e-01</td>\n",
       "      <td>0.050501</td>\n",
       "      <td>0.49</td>\n",
       "    </tr>\n",
       "    <tr>\n",
       "      <th>id1</th>\n",
       "      <td>1</td>\n",
       "      <td>39</td>\n",
       "      <td>-0.150727</td>\n",
       "      <td>1</td>\n",
       "      <td>39</td>\n",
       "      <td>-0.150727</td>\n",
       "      <td>0.000000</td>\n",
       "      <td>0.011100</td>\n",
       "      <td>0.011407</td>\n",
       "      <td>0.016120</td>\n",
       "      <td>...</td>\n",
       "      <td>0.000000</td>\n",
       "      <td>9.568000</td>\n",
       "      <td>0.000000</td>\n",
       "      <td>0.015030</td>\n",
       "      <td>0.000000</td>\n",
       "      <td>0.984970</td>\n",
       "      <td>0.000000</td>\n",
       "      <td>3.608379e-01</td>\n",
       "      <td>0.054901</td>\n",
       "      <td>0.49</td>\n",
       "    </tr>\n",
       "    <tr>\n",
       "      <th>id2</th>\n",
       "      <td>2</td>\n",
       "      <td>52</td>\n",
       "      <td>-0.226594</td>\n",
       "      <td>2</td>\n",
       "      <td>51</td>\n",
       "      <td>-0.185623</td>\n",
       "      <td>0.040971</td>\n",
       "      <td>0.002165</td>\n",
       "      <td>0.025647</td>\n",
       "      <td>0.061237</td>\n",
       "      <td>...</td>\n",
       "      <td>2.875000</td>\n",
       "      <td>10.000000</td>\n",
       "      <td>3.500000</td>\n",
       "      <td>0.102740</td>\n",
       "      <td>0.157534</td>\n",
       "      <td>0.547945</td>\n",
       "      <td>0.191781</td>\n",
       "      <td>7.854369e+06</td>\n",
       "      <td>0.093935</td>\n",
       "      <td>2.94</td>\n",
       "    </tr>\n",
       "    <tr>\n",
       "      <th>id3</th>\n",
       "      <td>2</td>\n",
       "      <td>7</td>\n",
       "      <td>-0.266297</td>\n",
       "      <td>2</td>\n",
       "      <td>7</td>\n",
       "      <td>-0.266297</td>\n",
       "      <td>0.000000</td>\n",
       "      <td>-0.017054</td>\n",
       "      <td>0.023132</td>\n",
       "      <td>0.010758</td>\n",
       "      <td>...</td>\n",
       "      <td>2.571429</td>\n",
       "      <td>0.000000</td>\n",
       "      <td>0.000000</td>\n",
       "      <td>0.437500</td>\n",
       "      <td>0.562500</td>\n",
       "      <td>0.000000</td>\n",
       "      <td>0.000000</td>\n",
       "      <td>6.726751e+06</td>\n",
       "      <td>0.320641</td>\n",
       "      <td>0.98</td>\n",
       "    </tr>\n",
       "    <tr>\n",
       "      <th>id4</th>\n",
       "      <td>2</td>\n",
       "      <td>5</td>\n",
       "      <td>-0.136603</td>\n",
       "      <td>2</td>\n",
       "      <td>5</td>\n",
       "      <td>-0.136603</td>\n",
       "      <td>0.000000</td>\n",
       "      <td>-0.016771</td>\n",
       "      <td>0.016771</td>\n",
       "      <td>0.023197</td>\n",
       "      <td>...</td>\n",
       "      <td>1.000000</td>\n",
       "      <td>0.000000</td>\n",
       "      <td>0.000000</td>\n",
       "      <td>0.666667</td>\n",
       "      <td>0.333333</td>\n",
       "      <td>0.000000</td>\n",
       "      <td>0.000000</td>\n",
       "      <td>4.767616e+06</td>\n",
       "      <td>0.147942</td>\n",
       "      <td>2.00</td>\n",
       "    </tr>\n",
       "    <tr>\n",
       "      <th>...</th>\n",
       "      <td>...</td>\n",
       "      <td>...</td>\n",
       "      <td>...</td>\n",
       "      <td>...</td>\n",
       "      <td>...</td>\n",
       "      <td>...</td>\n",
       "      <td>...</td>\n",
       "      <td>...</td>\n",
       "      <td>...</td>\n",
       "      <td>...</td>\n",
       "      <td>...</td>\n",
       "      <td>...</td>\n",
       "      <td>...</td>\n",
       "      <td>...</td>\n",
       "      <td>...</td>\n",
       "      <td>...</td>\n",
       "      <td>...</td>\n",
       "      <td>...</td>\n",
       "      <td>...</td>\n",
       "      <td>...</td>\n",
       "      <td>...</td>\n",
       "    </tr>\n",
       "    <tr>\n",
       "      <th>id1057</th>\n",
       "      <td>3</td>\n",
       "      <td>23</td>\n",
       "      <td>-0.204634</td>\n",
       "      <td>3</td>\n",
       "      <td>23</td>\n",
       "      <td>-0.204634</td>\n",
       "      <td>0.000000</td>\n",
       "      <td>-0.023942</td>\n",
       "      <td>0.023942</td>\n",
       "      <td>0.029463</td>\n",
       "      <td>...</td>\n",
       "      <td>0.000000</td>\n",
       "      <td>2.666667</td>\n",
       "      <td>0.000000</td>\n",
       "      <td>0.428571</td>\n",
       "      <td>0.000000</td>\n",
       "      <td>0.571429</td>\n",
       "      <td>0.000000</td>\n",
       "      <td>3.221823e+00</td>\n",
       "      <td>0.079674</td>\n",
       "      <td>0.98</td>\n",
       "    </tr>\n",
       "    <tr>\n",
       "      <th>id1058</th>\n",
       "      <td>3</td>\n",
       "      <td>74</td>\n",
       "      <td>-0.220603</td>\n",
       "      <td>3</td>\n",
       "      <td>74</td>\n",
       "      <td>-0.220603</td>\n",
       "      <td>0.000000</td>\n",
       "      <td>-0.023617</td>\n",
       "      <td>0.023617</td>\n",
       "      <td>0.029463</td>\n",
       "      <td>...</td>\n",
       "      <td>0.000000</td>\n",
       "      <td>3.333333</td>\n",
       "      <td>9.333333</td>\n",
       "      <td>0.136364</td>\n",
       "      <td>0.000000</td>\n",
       "      <td>0.227273</td>\n",
       "      <td>0.636364</td>\n",
       "      <td>2.098711e+00</td>\n",
       "      <td>0.075997</td>\n",
       "      <td>0.98</td>\n",
       "    </tr>\n",
       "    <tr>\n",
       "      <th>id1059</th>\n",
       "      <td>3</td>\n",
       "      <td>76</td>\n",
       "      <td>-0.296791</td>\n",
       "      <td>1</td>\n",
       "      <td>76</td>\n",
       "      <td>-0.191489</td>\n",
       "      <td>0.105302</td>\n",
       "      <td>-0.029887</td>\n",
       "      <td>0.029887</td>\n",
       "      <td>0.049622</td>\n",
       "      <td>...</td>\n",
       "      <td>0.666667</td>\n",
       "      <td>2.000000</td>\n",
       "      <td>4.666667</td>\n",
       "      <td>0.214286</td>\n",
       "      <td>0.071429</td>\n",
       "      <td>0.214286</td>\n",
       "      <td>0.500000</td>\n",
       "      <td>6.616627e-01</td>\n",
       "      <td>0.213724</td>\n",
       "      <td>0.25</td>\n",
       "    </tr>\n",
       "    <tr>\n",
       "      <th>id1060</th>\n",
       "      <td>3</td>\n",
       "      <td>76</td>\n",
       "      <td>-0.296791</td>\n",
       "      <td>1</td>\n",
       "      <td>76</td>\n",
       "      <td>-0.191489</td>\n",
       "      <td>0.105302</td>\n",
       "      <td>-0.029887</td>\n",
       "      <td>0.029887</td>\n",
       "      <td>0.049622</td>\n",
       "      <td>...</td>\n",
       "      <td>0.666667</td>\n",
       "      <td>2.000000</td>\n",
       "      <td>4.666667</td>\n",
       "      <td>0.214286</td>\n",
       "      <td>0.071429</td>\n",
       "      <td>0.214286</td>\n",
       "      <td>0.500000</td>\n",
       "      <td>6.616627e-01</td>\n",
       "      <td>0.213724</td>\n",
       "      <td>0.49</td>\n",
       "    </tr>\n",
       "    <tr>\n",
       "      <th>id1061</th>\n",
       "      <td>3</td>\n",
       "      <td>76</td>\n",
       "      <td>-0.296791</td>\n",
       "      <td>1</td>\n",
       "      <td>76</td>\n",
       "      <td>-0.191489</td>\n",
       "      <td>0.105302</td>\n",
       "      <td>-0.029887</td>\n",
       "      <td>0.029887</td>\n",
       "      <td>0.049622</td>\n",
       "      <td>...</td>\n",
       "      <td>0.666667</td>\n",
       "      <td>2.000000</td>\n",
       "      <td>4.666667</td>\n",
       "      <td>0.214286</td>\n",
       "      <td>0.071429</td>\n",
       "      <td>0.214286</td>\n",
       "      <td>0.500000</td>\n",
       "      <td>6.616627e-01</td>\n",
       "      <td>0.213724</td>\n",
       "      <td>1.96</td>\n",
       "    </tr>\n",
       "  </tbody>\n",
       "</table>\n",
       "<p>1062 rows × 271 columns</p>\n",
       "</div>"
      ],
      "text/plain": [
       "        AtomicOrbitals|HOMO_character  AtomicOrbitals|HOMO_element  \\\n",
       "id                                                                   \n",
       "id0                                 3                           46   \n",
       "id1                                 1                           39   \n",
       "id2                                 2                           52   \n",
       "id3                                 2                            7   \n",
       "id4                                 2                            5   \n",
       "...                               ...                          ...   \n",
       "id1057                              3                           23   \n",
       "id1058                              3                           74   \n",
       "id1059                              3                           76   \n",
       "id1060                              3                           76   \n",
       "id1061                              3                           76   \n",
       "\n",
       "        AtomicOrbitals|HOMO_energy  AtomicOrbitals|LUMO_character  \\\n",
       "id                                                                  \n",
       "id0                      -0.160771                              3   \n",
       "id1                      -0.150727                              1   \n",
       "id2                      -0.226594                              2   \n",
       "id3                      -0.266297                              2   \n",
       "id4                      -0.136603                              2   \n",
       "...                            ...                            ...   \n",
       "id1057                   -0.204634                              3   \n",
       "id1058                   -0.220603                              3   \n",
       "id1059                   -0.296791                              1   \n",
       "id1060                   -0.296791                              1   \n",
       "id1061                   -0.296791                              1   \n",
       "\n",
       "        AtomicOrbitals|LUMO_element  AtomicOrbitals|LUMO_energy  \\\n",
       "id                                                                \n",
       "id0                              46                   -0.160771   \n",
       "id1                              39                   -0.150727   \n",
       "id2                              51                   -0.185623   \n",
       "id3                               7                   -0.266297   \n",
       "id4                               5                   -0.136603   \n",
       "...                             ...                         ...   \n",
       "id1057                           23                   -0.204634   \n",
       "id1058                           74                   -0.220603   \n",
       "id1059                           76                   -0.191489   \n",
       "id1060                           76                   -0.191489   \n",
       "id1061                           76                   -0.191489   \n",
       "\n",
       "        AtomicOrbitals|gap_AO  \\\n",
       "id                              \n",
       "id0                  0.000000   \n",
       "id1                  0.000000   \n",
       "id2                  0.040971   \n",
       "id3                  0.000000   \n",
       "id4                  0.000000   \n",
       "...                       ...   \n",
       "id1057               0.000000   \n",
       "id1058               0.000000   \n",
       "id1059               0.105302   \n",
       "id1060               0.105302   \n",
       "id1061               0.105302   \n",
       "\n",
       "        AtomicPackingEfficiency|mean simul. packing efficiency  \\\n",
       "id                                                               \n",
       "id0                                              0.011270        \n",
       "id1                                              0.011100        \n",
       "id2                                              0.002165        \n",
       "id3                                             -0.017054        \n",
       "id4                                             -0.016771        \n",
       "...                                                   ...        \n",
       "id1057                                          -0.023942        \n",
       "id1058                                          -0.023617        \n",
       "id1059                                          -0.029887        \n",
       "id1060                                          -0.029887        \n",
       "id1061                                          -0.029887        \n",
       "\n",
       "        AtomicPackingEfficiency|mean abs simul. packing efficiency  \\\n",
       "id                                                                   \n",
       "id0                                              0.013120            \n",
       "id1                                              0.011407            \n",
       "id2                                              0.025647            \n",
       "id3                                              0.023132            \n",
       "id4                                              0.016771            \n",
       "...                                                   ...            \n",
       "id1057                                           0.023942            \n",
       "id1058                                           0.023617            \n",
       "id1059                                           0.029887            \n",
       "id1060                                           0.029887            \n",
       "id1061                                           0.029887            \n",
       "\n",
       "        AtomicPackingEfficiency|dist from 1 clusters |APE| < 0.010  ...  \\\n",
       "id                                                                  ...   \n",
       "id0                                              0.016120           ...   \n",
       "id1                                              0.016120           ...   \n",
       "id2                                              0.061237           ...   \n",
       "id3                                              0.010758           ...   \n",
       "id4                                              0.023197           ...   \n",
       "...                                                   ...           ...   \n",
       "id1057                                           0.029463           ...   \n",
       "id1058                                           0.029463           ...   \n",
       "id1059                                           0.049622           ...   \n",
       "id1060                                           0.049622           ...   \n",
       "id1061                                           0.049622           ...   \n",
       "\n",
       "        ValenceOrbital|avg p valence electrons  \\\n",
       "id                                               \n",
       "id0                                   0.000000   \n",
       "id1                                   0.000000   \n",
       "id2                                   2.875000   \n",
       "id3                                   2.571429   \n",
       "id4                                   1.000000   \n",
       "...                                        ...   \n",
       "id1057                                0.000000   \n",
       "id1058                                0.000000   \n",
       "id1059                                0.666667   \n",
       "id1060                                0.666667   \n",
       "id1061                                0.666667   \n",
       "\n",
       "        ValenceOrbital|avg d valence electrons  \\\n",
       "id                                               \n",
       "id0                                   9.568000   \n",
       "id1                                   9.568000   \n",
       "id2                                  10.000000   \n",
       "id3                                   0.000000   \n",
       "id4                                   0.000000   \n",
       "...                                        ...   \n",
       "id1057                                2.666667   \n",
       "id1058                                3.333333   \n",
       "id1059                                2.000000   \n",
       "id1060                                2.000000   \n",
       "id1061                                2.000000   \n",
       "\n",
       "        ValenceOrbital|avg f valence electrons  \\\n",
       "id                                               \n",
       "id0                                   0.336000   \n",
       "id1                                   0.000000   \n",
       "id2                                   3.500000   \n",
       "id3                                   0.000000   \n",
       "id4                                   0.000000   \n",
       "...                                        ...   \n",
       "id1057                                0.000000   \n",
       "id1058                                9.333333   \n",
       "id1059                                4.666667   \n",
       "id1060                                4.666667   \n",
       "id1061                                4.666667   \n",
       "\n",
       "        ValenceOrbital|frac s valence electrons  \\\n",
       "id                                                \n",
       "id0                                    0.014527   \n",
       "id1                                    0.015030   \n",
       "id2                                    0.102740   \n",
       "id3                                    0.437500   \n",
       "id4                                    0.666667   \n",
       "...                                         ...   \n",
       "id1057                                 0.428571   \n",
       "id1058                                 0.136364   \n",
       "id1059                                 0.214286   \n",
       "id1060                                 0.214286   \n",
       "id1061                                 0.214286   \n",
       "\n",
       "        ValenceOrbital|frac p valence electrons  \\\n",
       "id                                                \n",
       "id0                                    0.000000   \n",
       "id1                                    0.000000   \n",
       "id2                                    0.157534   \n",
       "id3                                    0.562500   \n",
       "id4                                    0.333333   \n",
       "...                                         ...   \n",
       "id1057                                 0.000000   \n",
       "id1058                                 0.000000   \n",
       "id1059                                 0.071429   \n",
       "id1060                                 0.071429   \n",
       "id1061                                 0.071429   \n",
       "\n",
       "        ValenceOrbital|frac d valence electrons  \\\n",
       "id                                                \n",
       "id0                                    0.952040   \n",
       "id1                                    0.984970   \n",
       "id2                                    0.547945   \n",
       "id3                                    0.000000   \n",
       "id4                                    0.000000   \n",
       "...                                         ...   \n",
       "id1057                                 0.571429   \n",
       "id1058                                 0.227273   \n",
       "id1059                                 0.214286   \n",
       "id1060                                 0.214286   \n",
       "id1061                                 0.214286   \n",
       "\n",
       "        ValenceOrbital|frac f valence electrons  YangSolidSolution|Yang omega  \\\n",
       "id                                                                              \n",
       "id0                                    0.033433                  3.587849e-01   \n",
       "id1                                    0.000000                  3.608379e-01   \n",
       "id2                                    0.191781                  7.854369e+06   \n",
       "id3                                    0.000000                  6.726751e+06   \n",
       "id4                                    0.000000                  4.767616e+06   \n",
       "...                                         ...                           ...   \n",
       "id1057                                 0.000000                  3.221823e+00   \n",
       "id1058                                 0.636364                  2.098711e+00   \n",
       "id1059                                 0.500000                  6.616627e-01   \n",
       "id1060                                 0.500000                  6.616627e-01   \n",
       "id1061                                 0.500000                  6.616627e-01   \n",
       "\n",
       "        YangSolidSolution|Yang delta  load  \n",
       "id                                          \n",
       "id0                         0.050501  0.49  \n",
       "id1                         0.054901  0.49  \n",
       "id2                         0.093935  2.94  \n",
       "id3                         0.320641  0.98  \n",
       "id4                         0.147942  2.00  \n",
       "...                              ...   ...  \n",
       "id1057                      0.079674  0.98  \n",
       "id1058                      0.075997  0.98  \n",
       "id1059                      0.213724  0.25  \n",
       "id1060                      0.213724  0.49  \n",
       "id1061                      0.213724  1.96  \n",
       "\n",
       "[1062 rows x 271 columns]"
      ]
     },
     "execution_count": 15,
     "metadata": {},
     "output_type": "execute_result"
    }
   ],
   "source": [
    "data.df_featurized"
   ]
  },
  {
   "cell_type": "markdown",
   "metadata": {},
   "source": [
    "### train-test split"
   ]
  },
  {
   "cell_type": "code",
   "execution_count": 16,
   "metadata": {},
   "outputs": [],
   "source": [
    "from sklearn.model_selection import train_test_split\n",
    "split = train_test_split(range(df.shape[0]), test_size=0.1, random_state=1234)\n",
    "train, test = data.split(split)"
   ]
  },
  {
   "cell_type": "code",
   "execution_count": 17,
   "metadata": {},
   "outputs": [
    {
     "name": "stdout",
     "output_type": "stream",
     "text": [
      "2023-08-26 00:13:28,410 - modnet - INFO - Multiprocessing on 1 workers.\n",
      "2023-08-26 00:13:28,413 - modnet - INFO - Computing \"self\" MI (i.e. information entropy) of features\n"
     ]
    },
    {
     "name": "stderr",
     "output_type": "stream",
     "text": [
      "100%|██████████| 271/271 [00:04<00:00, 66.09it/s]"
     ]
    },
    {
     "name": "stdout",
     "output_type": "stream",
     "text": [
      "2023-08-26 00:13:32,577 - modnet - INFO - Computing cross NMI between all features...\n"
     ]
    },
    {
     "name": "stderr",
     "output_type": "stream",
     "text": [
      "\n",
      "100%|██████████| 15225/15225 [03:17<00:00, 77.04it/s]"
     ]
    },
    {
     "name": "stdout",
     "output_type": "stream",
     "text": [
      "2023-08-26 00:16:50,519 - modnet - INFO - Starting target 1/1: hardness ...\n",
      "2023-08-26 00:16:50,521 - modnet - INFO - Computing mutual information between features and target...\n"
     ]
    },
    {
     "name": "stderr",
     "output_type": "stream",
     "text": [
      "\n",
      "/scratch/yll6162/miniconda/envs/modnet/lib/python3.9/site-packages/modnet/preprocessing.py:151: FutureWarning: In a future version, `df.iloc[:, i] = newvals` will attempt to set the values inplace instead of always setting a new array. To retain the old behavior, use either `df[df.columns[i]] = newvals` or, if columns are non-unique, `df.isetitem(i, newvals)`\n",
      "  mutual_info.loc[:, target_name] = _mifun(df_feat, df_target[target_name], **kwargs)\n"
     ]
    },
    {
     "name": "stdout",
     "output_type": "stream",
     "text": [
      "2023-08-26 00:16:56,889 - modnet - INFO - Computing optimal features...\n",
      "2023-08-26 00:17:02,074 - modnet - INFO - Selected 50/170 features...\n",
      "2023-08-26 00:17:06,281 - modnet - INFO - Selected 100/170 features...\n",
      "2023-08-26 00:17:08,792 - modnet - INFO - Selected 150/170 features...\n",
      "2023-08-26 00:17:09,038 - modnet - INFO - Done with target 1/1: hardness.\n",
      "2023-08-26 00:17:09,039 - modnet - INFO - Merging all features...\n",
      "2023-08-26 00:17:09,041 - modnet - INFO - Done.\n"
     ]
    }
   ],
   "source": [
    "train.feature_selection(n=-1)"
   ]
  },
  {
   "cell_type": "code",
   "execution_count": 18,
   "metadata": {},
   "outputs": [
    {
     "data": {
      "text/plain": [
       "True"
      ]
     },
     "execution_count": 18,
     "metadata": {},
     "output_type": "execute_result"
    }
   ],
   "source": [
    "state_name in train.optimal_features"
   ]
  },
  {
   "cell_type": "markdown",
   "metadata": {},
   "source": [
    "## MODNet model"
   ]
  },
  {
   "cell_type": "code",
   "execution_count": 19,
   "metadata": {},
   "outputs": [
    {
     "name": "stderr",
     "output_type": "stream",
     "text": [
      "2023-08-26 00:17:09.789225: I tensorflow/core/platform/cpu_feature_guard.cc:193] This TensorFlow binary is optimized with oneAPI Deep Neural Network Library (oneDNN) to use the following CPU instructions in performance-critical operations:  AVX2 AVX512F FMA\n",
      "To enable them in other operations, rebuild TensorFlow with the appropriate compiler flags.\n",
      "2023-08-26 00:17:10.424691: I tensorflow/core/common_runtime/gpu/gpu_device.cc:1613] Created device /job:localhost/replica:0/task:0/device:GPU:0 with 12043 MB memory:  -> device: 0, name: Tesla V100-PCIE-16GB, pci bus id: 0000:3b:00.0, compute capability: 7.0\n",
      "2023-08-26 00:17:10.427156: I tensorflow/core/common_runtime/gpu/gpu_device.cc:1613] Created device /job:localhost/replica:0/task:0/device:GPU:1 with 14791 MB memory:  -> device: 1, name: Tesla V100-PCIE-16GB, pci bus id: 0000:d8:00.0, compute capability: 7.0\n"
     ]
    }
   ],
   "source": [
    "model = MODNetModel([[[target_name]]],\n",
    "                    weights={target_name:1},\n",
    "                    num_neurons = [[256], [128], [16], [16]],\n",
    "                    n_feat = 150,\n",
    "                    act =  \"elu\"\n",
    "                   )"
   ]
  },
  {
   "cell_type": "markdown",
   "metadata": {},
   "source": [
    "### training"
   ]
  },
  {
   "cell_type": "code",
   "execution_count": 20,
   "metadata": {},
   "outputs": [
    {
     "name": "stdout",
     "output_type": "stream",
     "text": [
      "epoch 0: loss: 22.295, val_loss:20.700 val_mae:20.700\n",
      "epoch 1: loss: 19.108, val_loss:17.658 val_mae:17.658\n",
      "epoch 2: loss: 16.068, val_loss:14.705 val_mae:14.705\n",
      "epoch 3: loss: 12.984, val_loss:11.533 val_mae:11.533\n",
      "epoch 4: loss: 9.698, val_loss:8.271 val_mae:8.271\n",
      "epoch 5: loss: 7.364, val_loss:7.558 val_mae:7.558\n",
      "epoch 6: loss: 6.910, val_loss:6.869 val_mae:6.869\n",
      "epoch 7: loss: 6.330, val_loss:6.177 val_mae:6.177\n",
      "epoch 8: loss: 5.919, val_loss:5.927 val_mae:5.927\n",
      "epoch 9: loss: 5.698, val_loss:5.814 val_mae:5.814\n",
      "epoch 10: loss: 5.544, val_loss:5.707 val_mae:5.707\n",
      "epoch 11: loss: 5.426, val_loss:5.609 val_mae:5.609\n",
      "epoch 12: loss: 5.298, val_loss:5.530 val_mae:5.530\n",
      "epoch 13: loss: 5.205, val_loss:5.424 val_mae:5.424\n",
      "epoch 14: loss: 5.123, val_loss:5.314 val_mae:5.314\n",
      "epoch 15: loss: 5.054, val_loss:5.223 val_mae:5.223\n",
      "epoch 16: loss: 4.994, val_loss:5.132 val_mae:5.132\n",
      "epoch 17: loss: 4.933, val_loss:5.161 val_mae:5.161\n",
      "epoch 18: loss: 4.902, val_loss:5.025 val_mae:5.025\n",
      "epoch 19: loss: 4.829, val_loss:4.969 val_mae:4.969\n",
      "epoch 20: loss: 4.780, val_loss:4.905 val_mae:4.905\n",
      "epoch 21: loss: 4.734, val_loss:4.834 val_mae:4.834\n",
      "epoch 22: loss: 4.691, val_loss:4.783 val_mae:4.783\n",
      "epoch 23: loss: 4.653, val_loss:4.753 val_mae:4.753\n",
      "epoch 24: loss: 4.626, val_loss:4.675 val_mae:4.675\n",
      "epoch 25: loss: 4.592, val_loss:4.675 val_mae:4.675\n",
      "epoch 26: loss: 4.589, val_loss:4.637 val_mae:4.637\n",
      "epoch 27: loss: 4.568, val_loss:4.558 val_mae:4.558\n",
      "epoch 28: loss: 4.530, val_loss:4.627 val_mae:4.627\n",
      "epoch 29: loss: 4.488, val_loss:4.505 val_mae:4.505\n",
      "epoch 30: loss: 4.462, val_loss:4.541 val_mae:4.541\n",
      "epoch 31: loss: 4.442, val_loss:4.503 val_mae:4.503\n",
      "epoch 32: loss: 4.420, val_loss:4.480 val_mae:4.480\n",
      "epoch 33: loss: 4.436, val_loss:4.614 val_mae:4.614\n",
      "epoch 34: loss: 4.451, val_loss:4.458 val_mae:4.458\n",
      "epoch 35: loss: 4.375, val_loss:4.447 val_mae:4.447\n",
      "epoch 36: loss: 4.369, val_loss:4.434 val_mae:4.434\n",
      "epoch 37: loss: 4.362, val_loss:4.413 val_mae:4.413\n",
      "epoch 38: loss: 4.323, val_loss:4.426 val_mae:4.426\n",
      "epoch 39: loss: 4.341, val_loss:4.406 val_mae:4.406\n",
      "epoch 40: loss: 4.337, val_loss:4.400 val_mae:4.400\n",
      "epoch 41: loss: 4.286, val_loss:4.481 val_mae:4.481\n",
      "epoch 42: loss: 4.283, val_loss:4.404 val_mae:4.404\n",
      "epoch 43: loss: 4.274, val_loss:4.417 val_mae:4.417\n",
      "epoch 44: loss: 4.255, val_loss:4.484 val_mae:4.484\n",
      "epoch 45: loss: 4.328, val_loss:4.386 val_mae:4.386\n",
      "epoch 46: loss: 4.229, val_loss:4.374 val_mae:4.374\n",
      "epoch 47: loss: 4.210, val_loss:4.383 val_mae:4.383\n",
      "epoch 48: loss: 4.199, val_loss:4.388 val_mae:4.388\n",
      "epoch 49: loss: 4.238, val_loss:4.341 val_mae:4.341\n",
      "epoch 50: loss: 4.211, val_loss:4.323 val_mae:4.323\n",
      "epoch 51: loss: 4.167, val_loss:4.329 val_mae:4.329\n",
      "epoch 52: loss: 4.142, val_loss:4.392 val_mae:4.392\n",
      "epoch 53: loss: 4.158, val_loss:4.337 val_mae:4.337\n",
      "epoch 54: loss: 4.137, val_loss:4.298 val_mae:4.298\n",
      "epoch 55: loss: 4.133, val_loss:4.372 val_mae:4.372\n",
      "epoch 56: loss: 4.152, val_loss:4.288 val_mae:4.288\n",
      "epoch 57: loss: 4.097, val_loss:4.303 val_mae:4.303\n",
      "epoch 58: loss: 4.121, val_loss:4.283 val_mae:4.283\n",
      "epoch 59: loss: 4.083, val_loss:4.255 val_mae:4.255\n",
      "epoch 60: loss: 4.064, val_loss:4.254 val_mae:4.254\n",
      "epoch 61: loss: 4.051, val_loss:4.282 val_mae:4.282\n",
      "epoch 62: loss: 4.030, val_loss:4.258 val_mae:4.258\n",
      "epoch 63: loss: 4.017, val_loss:4.255 val_mae:4.255\n",
      "epoch 64: loss: 4.033, val_loss:4.269 val_mae:4.269\n",
      "epoch 65: loss: 4.027, val_loss:4.319 val_mae:4.319\n",
      "epoch 66: loss: 3.988, val_loss:4.249 val_mae:4.249\n",
      "epoch 67: loss: 4.027, val_loss:4.396 val_mae:4.396\n",
      "epoch 68: loss: 4.004, val_loss:4.250 val_mae:4.250\n",
      "epoch 69: loss: 3.983, val_loss:4.206 val_mae:4.206\n",
      "epoch 70: loss: 3.991, val_loss:4.283 val_mae:4.283\n",
      "epoch 71: loss: 3.935, val_loss:4.230 val_mae:4.230\n",
      "epoch 72: loss: 3.934, val_loss:4.237 val_mae:4.237\n",
      "epoch 73: loss: 3.927, val_loss:4.342 val_mae:4.342\n",
      "epoch 74: loss: 3.927, val_loss:4.233 val_mae:4.233\n",
      "epoch 75: loss: 3.901, val_loss:4.219 val_mae:4.219\n",
      "epoch 76: loss: 3.886, val_loss:4.219 val_mae:4.219\n",
      "epoch 77: loss: 3.897, val_loss:4.210 val_mae:4.210\n",
      "epoch 78: loss: 3.883, val_loss:4.223 val_mae:4.223\n",
      "epoch 79: loss: 3.875, val_loss:4.228 val_mae:4.228\n",
      "epoch 80: loss: 3.873, val_loss:4.198 val_mae:4.198\n",
      "epoch 81: loss: 3.872, val_loss:4.293 val_mae:4.293\n",
      "epoch 82: loss: 3.892, val_loss:4.337 val_mae:4.337\n",
      "epoch 83: loss: 3.847, val_loss:4.210 val_mae:4.210\n",
      "epoch 84: loss: 3.817, val_loss:4.194 val_mae:4.194\n",
      "epoch 85: loss: 3.845, val_loss:4.223 val_mae:4.223\n",
      "epoch 86: loss: 3.812, val_loss:4.218 val_mae:4.218\n",
      "epoch 87: loss: 3.801, val_loss:4.219 val_mae:4.219\n",
      "epoch 88: loss: 3.787, val_loss:4.176 val_mae:4.176\n",
      "epoch 89: loss: 3.767, val_loss:4.304 val_mae:4.304\n",
      "epoch 90: loss: 3.842, val_loss:4.211 val_mae:4.211\n",
      "epoch 91: loss: 3.748, val_loss:4.181 val_mae:4.181\n",
      "epoch 92: loss: 3.782, val_loss:4.204 val_mae:4.204\n",
      "epoch 93: loss: 3.761, val_loss:4.253 val_mae:4.253\n",
      "epoch 94: loss: 3.802, val_loss:4.222 val_mae:4.222\n",
      "epoch 95: loss: 3.761, val_loss:4.195 val_mae:4.195\n",
      "epoch 96: loss: 3.748, val_loss:4.229 val_mae:4.229\n",
      "epoch 97: loss: 3.763, val_loss:4.143 val_mae:4.143\n",
      "epoch 98: loss: 3.698, val_loss:4.152 val_mae:4.152\n",
      "epoch 99: loss: 3.718, val_loss:4.150 val_mae:4.150\n"
     ]
    }
   ],
   "source": [
    "model.fit(train,\n",
    "          val_fraction = 0.1,\n",
    "          lr = 0.0002,\n",
    "          batch_size = 64,\n",
    "          loss = 'mae',\n",
    "          epochs = 100,\n",
    "          verbose = 1,\n",
    "         )"
   ]
  },
  {
   "cell_type": "markdown",
   "metadata": {},
   "source": [
    "### Predicting"
   ]
  },
  {
   "cell_type": "code",
   "execution_count": 22,
   "metadata": {},
   "outputs": [
    {
     "name": "stdout",
     "output_type": "stream",
     "text": [
      "4/4 [==============================] - 0s 16ms/step\n"
     ]
    },
    {
     "data": {
      "text/html": [
       "<div>\n",
       "<style scoped>\n",
       "    .dataframe tbody tr th:only-of-type {\n",
       "        vertical-align: middle;\n",
       "    }\n",
       "\n",
       "    .dataframe tbody tr th {\n",
       "        vertical-align: top;\n",
       "    }\n",
       "\n",
       "    .dataframe thead th {\n",
       "        text-align: right;\n",
       "    }\n",
       "</style>\n",
       "<table border=\"1\" class=\"dataframe\">\n",
       "  <thead>\n",
       "    <tr style=\"text-align: right;\">\n",
       "      <th></th>\n",
       "      <th>hardness</th>\n",
       "    </tr>\n",
       "  </thead>\n",
       "  <tbody>\n",
       "    <tr>\n",
       "      <th>id207</th>\n",
       "      <td>7.131758</td>\n",
       "    </tr>\n",
       "    <tr>\n",
       "      <th>id661</th>\n",
       "      <td>33.168446</td>\n",
       "    </tr>\n",
       "    <tr>\n",
       "      <th>id1049</th>\n",
       "      <td>8.694278</td>\n",
       "    </tr>\n",
       "    <tr>\n",
       "      <th>id470</th>\n",
       "      <td>34.421829</td>\n",
       "    </tr>\n",
       "    <tr>\n",
       "      <th>id485</th>\n",
       "      <td>6.085532</td>\n",
       "    </tr>\n",
       "  </tbody>\n",
       "</table>\n",
       "</div>"
      ],
      "text/plain": [
       "         hardness\n",
       "id207    7.131758\n",
       "id661   33.168446\n",
       "id1049   8.694278\n",
       "id470   34.421829\n",
       "id485    6.085532"
      ]
     },
     "execution_count": 22,
     "metadata": {},
     "output_type": "execute_result"
    }
   ],
   "source": [
    "pred = model.predict(test)\n",
    "pred.head()"
   ]
  },
  {
   "cell_type": "markdown",
   "metadata": {},
   "source": [
    "### Model Performance"
   ]
  },
  {
   "cell_type": "markdown",
   "metadata": {},
   "source": [
    "#### Mean Absolute Error"
   ]
  },
  {
   "cell_type": "code",
   "execution_count": 23,
   "metadata": {},
   "outputs": [
    {
     "name": "stdout",
     "output_type": "stream",
     "text": [
      "mae: 4.62163162184845\n"
     ]
    }
   ],
   "source": [
    "mae_test = np.absolute(pred.values-test.df_targets.values).mean()\n",
    "print(f'mae: {mae_test}')"
   ]
  },
  {
   "cell_type": "markdown",
   "metadata": {},
   "source": [
    "#### Hexagonally-binned parity plot"
   ]
  },
  {
   "cell_type": "code",
   "execution_count": 76,
   "metadata": {},
   "outputs": [
    {
     "data": {
      "image/png": "[encoded data removed]",
      "text/plain": [
       "<Figure size 432x288 with 2 Axes>"
      ]
     },
     "metadata": {
      "needs_background": "light"
     },
     "output_type": "display_data"
    }
   ],
   "source": [
    "# ax = density_hexbin(test.df_targets.values, pred.values)\n",
    "# ax.set_box_aspect(1)"
   ]
  },
  {
   "cell_type": "markdown",
   "metadata": {},
   "source": [
    "#### Traditional parity plot"
   ]
  },
  {
   "cell_type": "code",
   "execution_count": 77,
   "metadata": {},
   "outputs": [
    {
     "data": {
      "image/png": "[encoded data removed]",
      "text/plain": [
       "<Figure size 432x288 with 1 Axes>"
      ]
     },
     "metadata": {
      "needs_background": "light"
     },
     "output_type": "display_data"
    }
   ],
   "source": [
    "ax = density_scatter(test.df_targets.values.ravel(), pred.values.ravel())\n",
    "ax.set_box_aspect(1)"
   ]
  }
 ],
 "metadata": {
  "interpreter": {
   "hash": "c49dec6c0b745adc18e6e3a9f43fbdc7261d68618e04f910a7d426f3ba3563b6"
  },
  "kernelspec": {
   "display_name": "Python 3 (ipykernel)",
   "language": "python",
   "name": "python3"
  },
  "language_info": {
   "codemirror_mode": {
    "name": "ipython",
    "version": 3
   },
   "file_extension": ".py",
   "mimetype": "text/x-python",
   "name": "python",
   "nbconvert_exporter": "python",
   "pygments_lexer": "ipython3",
   "version": "3.9.17"
  }
 },
 "nbformat": 4,
 "nbformat_minor": 4
}
